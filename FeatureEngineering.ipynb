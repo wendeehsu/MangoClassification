{
 "cells": [
  {
   "cell_type": "code",
   "execution_count": 12,
   "metadata": {},
   "outputs": [],
   "source": [
    "import numpy as np\n",
    "import pandas as pd\n",
    "from sklearn.model_selection import train_test_split\n",
    "from sklearn.preprocessing import StandardScaler"
   ]
  },
  {
   "cell_type": "code",
   "execution_count": 4,
   "metadata": {},
   "outputs": [
    {
     "data": {
      "text/html": [
       "<div>\n",
       "<style scoped>\n",
       "    .dataframe tbody tr th:only-of-type {\n",
       "        vertical-align: middle;\n",
       "    }\n",
       "\n",
       "    .dataframe tbody tr th {\n",
       "        vertical-align: top;\n",
       "    }\n",
       "\n",
       "    .dataframe thead th {\n",
       "        text-align: right;\n",
       "    }\n",
       "</style>\n",
       "<table border=\"1\" class=\"dataframe\">\n",
       "  <thead>\n",
       "    <tr style=\"text-align: right;\">\n",
       "      <th></th>\n",
       "      <th>filename</th>\n",
       "      <th>defect_area(porportion*1000)</th>\n",
       "      <th>r_var</th>\n",
       "      <th>g_var</th>\n",
       "      <th>b_var</th>\n",
       "      <th>r_avg</th>\n",
       "      <th>g_avg</th>\n",
       "      <th>b_avg</th>\n",
       "      <th>level</th>\n",
       "    </tr>\n",
       "  </thead>\n",
       "  <tbody>\n",
       "    <tr>\n",
       "      <th>0</th>\n",
       "      <td>06108.jpg</td>\n",
       "      <td>0.000000</td>\n",
       "      <td>12509.416900</td>\n",
       "      <td>3495.838757</td>\n",
       "      <td>2458.734951</td>\n",
       "      <td>27.189524</td>\n",
       "      <td>28.203810</td>\n",
       "      <td>29.691429</td>\n",
       "      <td>B</td>\n",
       "    </tr>\n",
       "    <tr>\n",
       "      <th>1</th>\n",
       "      <td>06137.jpg</td>\n",
       "      <td>0.000000</td>\n",
       "      <td>9464.311203</td>\n",
       "      <td>5816.238190</td>\n",
       "      <td>2418.470851</td>\n",
       "      <td>0.155238</td>\n",
       "      <td>0.133333</td>\n",
       "      <td>0.169524</td>\n",
       "      <td>B</td>\n",
       "    </tr>\n",
       "    <tr>\n",
       "      <th>2</th>\n",
       "      <td>06133.jpg</td>\n",
       "      <td>0.000000</td>\n",
       "      <td>7751.230291</td>\n",
       "      <td>5548.130144</td>\n",
       "      <td>2565.297093</td>\n",
       "      <td>23.396190</td>\n",
       "      <td>27.937143</td>\n",
       "      <td>32.561905</td>\n",
       "      <td>B</td>\n",
       "    </tr>\n",
       "    <tr>\n",
       "      <th>3</th>\n",
       "      <td>06162.jpg</td>\n",
       "      <td>0.138776</td>\n",
       "      <td>7398.400446</td>\n",
       "      <td>3064.364774</td>\n",
       "      <td>3586.753868</td>\n",
       "      <td>2.057143</td>\n",
       "      <td>4.511429</td>\n",
       "      <td>5.781905</td>\n",
       "      <td>A</td>\n",
       "    </tr>\n",
       "    <tr>\n",
       "      <th>4</th>\n",
       "      <td>06129.jpg</td>\n",
       "      <td>4.473469</td>\n",
       "      <td>3373.793432</td>\n",
       "      <td>1218.566102</td>\n",
       "      <td>1203.042319</td>\n",
       "      <td>0.237143</td>\n",
       "      <td>0.288571</td>\n",
       "      <td>6.875238</td>\n",
       "      <td>A</td>\n",
       "    </tr>\n",
       "  </tbody>\n",
       "</table>\n",
       "</div>"
      ],
      "text/plain": [
       "    filename  defect_area(porportion*1000)         r_var        g_var  \\\n",
       "0  06108.jpg                      0.000000  12509.416900  3495.838757   \n",
       "1  06137.jpg                      0.000000   9464.311203  5816.238190   \n",
       "2  06133.jpg                      0.000000   7751.230291  5548.130144   \n",
       "3  06162.jpg                      0.138776   7398.400446  3064.364774   \n",
       "4  06129.jpg                      4.473469   3373.793432  1218.566102   \n",
       "\n",
       "         b_var      r_avg      g_avg      b_avg level  \n",
       "0  2458.734951  27.189524  28.203810  29.691429     B  \n",
       "1  2418.470851   0.155238   0.133333   0.169524     B  \n",
       "2  2565.297093  23.396190  27.937143  32.561905     B  \n",
       "3  3586.753868   2.057143   4.511429   5.781905     A  \n",
       "4  1203.042319   0.237143   0.288571   6.875238     A  "
      ]
     },
     "execution_count": 4,
     "metadata": {},
     "output_type": "execute_result"
    }
   ],
   "source": [
    "df = pd.read_csv('V1_train_feature.csv', encoding = \"ISO-8859-1\")\n",
    "df.head()"
   ]
  },
  {
   "cell_type": "code",
   "execution_count": 39,
   "metadata": {},
   "outputs": [],
   "source": [
    "X = df.drop(['filename', 'level'], axis=1)\n",
    "y = df.loc[:,['level']]\n",
    "X = X.fillna(0)\n",
    "\n",
    "X = X.to_numpy()\n",
    "y = y.to_numpy()"
   ]
  },
  {
   "cell_type": "code",
   "execution_count": 40,
   "metadata": {},
   "outputs": [],
   "source": [
    "X_train, X_test, y_train, y_test = train_test_split(X, y, test_size = 0.2, random_state = 0)"
   ]
  },
  {
   "cell_type": "code",
   "execution_count": 41,
   "metadata": {},
   "outputs": [],
   "source": [
    "# 標準化\n",
    "sc = StandardScaler()\n",
    "X_train = sc.fit_transform(X_train) \n",
    "X_test = sc.transform(X_test)"
   ]
  },
  {
   "cell_type": "markdown",
   "metadata": {},
   "source": [
    "# 訓練\n"
   ]
  },
  {
   "cell_type": "code",
   "execution_count": 42,
   "metadata": {},
   "outputs": [],
   "source": [
    "from sklearn.ensemble import RandomForestClassifier\n",
    "from sklearn import tree \n",
    "from sklearn.svm import SVC"
   ]
  },
  {
   "cell_type": "code",
   "execution_count": 43,
   "metadata": {},
   "outputs": [
    {
     "name": "stderr",
     "output_type": "stream",
     "text": [
      "/usr/local/lib/python3.7/site-packages/sklearn/ensemble/forest.py:246: FutureWarning: The default value of n_estimators will change from 10 in version 0.20 to 100 in 0.22.\n",
      "  \"10 in version 0.20 to 100 in 0.22.\", FutureWarning)\n"
     ]
    }
   ],
   "source": [
    "clf_RandomForest = RandomForestClassifier()\n",
    "clf_RandomForest = clf_RandomForest.fit(X_train, y_train.ravel()) \n",
    "\n",
    "clf_tree = tree.DecisionTreeClassifier() \n",
    "clf_tree = clf_tree.fit(X_train, y_train.ravel())\n",
    "\n",
    "clf_svc = SVC()\n",
    "clf_svc = clf_svc.fit(X_train, y_train.ravel())"
   ]
  },
  {
   "cell_type": "code",
   "execution_count": 44,
   "metadata": {
    "scrolled": true
   },
   "outputs": [],
   "source": [
    "# 預測\n",
    "y_pred_tree = clf_tree.predict(X_test)\n",
    "y_pred_svc = clf_svc.predict(X_test)\n",
    "y_pred_RandomForest = clf_RandomForest.predict(X_test)\n",
    "\n",
    "# 結果\n",
    "from sklearn.metrics import classification_report\n",
    "from sklearn.metrics import accuracy_score\n",
    "from sklearn.metrics import confusion_matrix\n",
    "\n",
    "def PredictReport(method, predictions, clf):\n",
    "    print(method, ':', accuracy_score(y_test, predictions))\n",
    "    print(classification_report(y_test, predictions))\n",
    "    print(pd.DataFrame(confusion_matrix(y_test, predictions)))\n",
    "    print(clf.feature_importances_)"
   ]
  },
  {
   "cell_type": "code",
   "execution_count": 45,
   "metadata": {
    "scrolled": true
   },
   "outputs": [
    {
     "name": "stdout",
     "output_type": "stream",
     "text": [
      "RandomForest : 0.5723214285714285\n",
      "              precision    recall  f1-score   support\n",
      "\n",
      "           A       0.61      0.67      0.64       351\n",
      "           B       0.50      0.50      0.50       406\n",
      "           C       0.61      0.55      0.58       363\n",
      "\n",
      "   micro avg       0.57      0.57      0.57      1120\n",
      "   macro avg       0.58      0.58      0.57      1120\n",
      "weighted avg       0.57      0.57      0.57      1120\n",
      "\n",
      "     0    1    2\n",
      "0  236   82   33\n",
      "1  107  205   94\n",
      "2   43  120  200\n",
      "[0.17345553 0.16333194 0.18787422 0.14730764 0.1154135  0.10565863\n",
      " 0.10695854]\n"
     ]
    }
   ],
   "source": [
    "PredictReport(\"RandomForest\", y_pred_RandomForest, clf_RandomForest)"
   ]
  },
  {
   "cell_type": "code",
   "execution_count": 46,
   "metadata": {
    "scrolled": false
   },
   "outputs": [
    {
     "name": "stdout",
     "output_type": "stream",
     "text": [
      "SVC : 0.5714285714285714\n",
      "              precision    recall  f1-score   support\n",
      "\n",
      "           A       0.57      0.75      0.65       351\n",
      "           B       0.53      0.53      0.53       406\n",
      "           C       0.64      0.45      0.53       363\n",
      "\n",
      "   micro avg       0.57      0.57      0.57      1120\n",
      "   macro avg       0.58      0.58      0.57      1120\n",
      "weighted avg       0.58      0.57      0.57      1120\n",
      "\n",
      "     0    1    2\n",
      "0  262   63   26\n",
      "1  126  214   66\n",
      "2   72  127  164\n"
     ]
    },
    {
     "ename": "AttributeError",
     "evalue": "'SVC' object has no attribute 'feature_importances_'",
     "output_type": "error",
     "traceback": [
      "\u001b[0;31m---------------------------------------------------------------------------\u001b[0m",
      "\u001b[0;31mAttributeError\u001b[0m                            Traceback (most recent call last)",
      "\u001b[0;32m<ipython-input-46-7e93e11a6184>\u001b[0m in \u001b[0;36m<module>\u001b[0;34m\u001b[0m\n\u001b[0;32m----> 1\u001b[0;31m \u001b[0mPredictReport\u001b[0m\u001b[0;34m(\u001b[0m\u001b[0;34m\"SVC\"\u001b[0m\u001b[0;34m,\u001b[0m \u001b[0my_pred_svc\u001b[0m\u001b[0;34m,\u001b[0m \u001b[0mclf_svc\u001b[0m\u001b[0;34m)\u001b[0m\u001b[0;34m\u001b[0m\u001b[0m\n\u001b[0m",
      "\u001b[0;32m<ipython-input-44-827f11dc6e2d>\u001b[0m in \u001b[0;36mPredictReport\u001b[0;34m(method, predictions, clf)\u001b[0m\n\u001b[1;32m     13\u001b[0m     \u001b[0mprint\u001b[0m\u001b[0;34m(\u001b[0m\u001b[0mclassification_report\u001b[0m\u001b[0;34m(\u001b[0m\u001b[0my_test\u001b[0m\u001b[0;34m,\u001b[0m \u001b[0mpredictions\u001b[0m\u001b[0;34m)\u001b[0m\u001b[0;34m)\u001b[0m\u001b[0;34m\u001b[0m\u001b[0m\n\u001b[1;32m     14\u001b[0m     \u001b[0mprint\u001b[0m\u001b[0;34m(\u001b[0m\u001b[0mpd\u001b[0m\u001b[0;34m.\u001b[0m\u001b[0mDataFrame\u001b[0m\u001b[0;34m(\u001b[0m\u001b[0mconfusion_matrix\u001b[0m\u001b[0;34m(\u001b[0m\u001b[0my_test\u001b[0m\u001b[0;34m,\u001b[0m \u001b[0mpredictions\u001b[0m\u001b[0;34m)\u001b[0m\u001b[0;34m)\u001b[0m\u001b[0;34m)\u001b[0m\u001b[0;34m\u001b[0m\u001b[0m\n\u001b[0;32m---> 15\u001b[0;31m     \u001b[0mprint\u001b[0m\u001b[0;34m(\u001b[0m\u001b[0mclf\u001b[0m\u001b[0;34m.\u001b[0m\u001b[0mfeature_importances_\u001b[0m\u001b[0;34m)\u001b[0m\u001b[0;34m\u001b[0m\u001b[0m\n\u001b[0m",
      "\u001b[0;31mAttributeError\u001b[0m: 'SVC' object has no attribute 'feature_importances_'"
     ]
    }
   ],
   "source": [
    "PredictReport(\"SVC\", y_pred_svc, clf_svc)"
   ]
  },
  {
   "cell_type": "code",
   "execution_count": 47,
   "metadata": {},
   "outputs": [
    {
     "name": "stdout",
     "output_type": "stream",
     "text": [
      "DecisionTree : 0.5098214285714285\n",
      "              precision    recall  f1-score   support\n",
      "\n",
      "           A       0.54      0.57      0.56       351\n",
      "           B       0.47      0.47      0.47       406\n",
      "           C       0.52      0.50      0.51       363\n",
      "\n",
      "   micro avg       0.51      0.51      0.51      1120\n",
      "   macro avg       0.51      0.51      0.51      1120\n",
      "weighted avg       0.51      0.51      0.51      1120\n",
      "\n",
      "     0    1    2\n",
      "0  200   95   56\n",
      "1  108  190  108\n",
      "2   61  121  181\n",
      "[0.19269049 0.18080701 0.19344734 0.16999504 0.09553629 0.07204176\n",
      " 0.09548207]\n"
     ]
    }
   ],
   "source": [
    "PredictReport(\"DecisionTree\", y_pred_tree, clf_tree)"
   ]
  },
  {
   "cell_type": "code",
   "execution_count": 27,
   "metadata": {
    "scrolled": true
   },
   "outputs": [
    {
     "name": "stdout",
     "output_type": "stream",
     "text": [
      "defect_area(porportion*1000) : 0.16455613536610206\n",
      "r_var : 0.1626089931182689\n",
      "g_var : 0.19110360213605534\n",
      "b_var : 0.15045690871677359\n",
      "r_avg : 0.11547993098305395\n",
      "g_avg : 0.10794520629818138\n",
      "b_avg : 0.10784922338156482\n"
     ]
    }
   ],
   "source": [
    "features = list(df.columns)\n",
    "features = features[1:8]\n",
    "for index,feature in enumerate(features):\n",
    "    print(feature, \":\", clf_RandomForest.feature_importances_[index])"
   ]
  }
 ],
 "metadata": {
  "kernelspec": {
   "display_name": "Python 3",
   "language": "python",
   "name": "python3"
  },
  "language_info": {
   "codemirror_mode": {
    "name": "ipython",
    "version": 3
   },
   "file_extension": ".py",
   "mimetype": "text/x-python",
   "name": "python",
   "nbconvert_exporter": "python",
   "pygments_lexer": "ipython3",
   "version": "3.7.0"
  }
 },
 "nbformat": 4,
 "nbformat_minor": 2
}
